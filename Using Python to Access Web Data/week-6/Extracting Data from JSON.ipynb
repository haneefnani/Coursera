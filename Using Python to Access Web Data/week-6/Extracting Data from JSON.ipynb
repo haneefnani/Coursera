{
 "cells": [
  {
   "cell_type": "markdown",
   "metadata": {},
   "source": [
    "# Extracting Data from JSON\n",
    "\n",
    "In this assignment you will write a Python program somewhat similar to http://www.py4e.com/code3/json2.py.\n",
    "The program will prompt for a URL, read the JSON data from that URL using urllib and then parse and extract the comment counts from the JSON data, compute the sum of the numbers in the file and enter the sum below:\n",
    "\n",
    "We provide two files for this assignment. One is a sample file where we give you the sum for your testing and the other is the actual data you need to process for the assignment.\n",
    "\n",
    "__Sample data:__ http://py4e-data.dr-chuck.net/comments_42.json (Sum=2553)<br>\n",
    "__Actual data:__ http://py4e-data.dr-chuck.net/comments_447339.json (Sum ends with 18)\n",
    "\n",
    "You do not need to save these files to your folder since your program will read the data directly from the URL. Note: Each student will have a distinct data url for the assignment - so only use your own data url for analysis.\n",
    "\n",
    "### Data Format\n",
    "The data consists of a number of names and comment counts in JSON as follows:\n",
    "<code>\n",
    "{\n",
    "  comments: [\n",
    "    {\n",
    "      name: \"Matthias\"\n",
    "      count: 97\n",
    "    },\n",
    "    {\n",
    "      name: \"Geomer\"\n",
    "      count: 97\n",
    "    }\n",
    "    ...\n",
    "  ]\n",
    "}\n",
    "</code>\n",
    "The closest sample code that shows how to parse JSON and extract a list is json2.py.  \n",
    "You might also want to look at geoxml.py to see how to prompt for a URL and retrieve data from a URL.\n",
    "\n",
    "#### Sample Execution\n",
    "<pre>\n",
    "$ python3 solution.py\n",
    "Enter location: http://py4e-data.dr-chuck.net/comments_42.json\n",
    "Retrieving http://py4e-data.dr-chuck.net/comments_42.json\n",
    "Retrieved 2733 characters\n",
    "Count: 50\n",
    "Sum: 2...\n",
    "</pre>\n",
    "\n",
    "# _Code_"
   ]
  },
  {
   "cell_type": "code",
   "execution_count": null,
   "metadata": {},
   "outputs": [],
   "source": [
    "import json\n",
    "import urllib.request\n",
    "count = 0\n",
    "\n",
    "url = \"http://py4e-data.dr-chuck.net/comments_447339.json\"\n",
    "print(\"retrieving URL. Stand by.\")\n",
    "data = urllib.request.urlopen(url).read()\n",
    "\n",
    "\n",
    "info = json.loads(data)\n",
    "for item in info[\"comments\"]:\n",
    "\n",
    "\tnumber = int(item[\"count\"])\n",
    "\tcount = count + number\n",
    "print(count)\n"
   ]
  },
  {
   "cell_type": "code",
   "execution_count": null,
   "metadata": {},
   "outputs": [],
   "source": []
  }
 ],
 "metadata": {
  "kernelspec": {
   "display_name": "Python",
   "language": "python",
   "name": "conda-env-python-py"
  },
  "language_info": {
   "codemirror_mode": {
    "name": "ipython",
    "version": 3
   },
   "file_extension": ".py",
   "mimetype": "text/x-python",
   "name": "python",
   "nbconvert_exporter": "python",
   "pygments_lexer": "ipython3",
   "version": "3.6.10"
  }
 },
 "nbformat": 4,
 "nbformat_minor": 4
}
