{
 "cells": [
  {
   "cell_type": "markdown",
   "metadata": {},
   "source": [
    "# Extracting Data from XML\n",
    "\n",
    "In this assignment you will write a Python program somewhat similar to http://www.py4e.com/code3/geoxml.py.\n",
    "The program will prompt for a URL, read the XML data from that URL using urllib and then parse and extract the comment counts from the XML data, compute the sum of the numbers in the file.\n",
    "\n",
    "We provide two files for this assignment. One is a sample file where we give you the sum for your testing and the other is the actual data you need to process for the assignment.\n",
    "\n",
    "__Sample data:__ http://py4e-data.dr-chuck.net/comments_42.xml (Sum=2553)\n",
    "**Actual data:** http://py4e-data.dr-chuck.net/comments_447338.xml (Sum ends with 64)\n",
    "\n",
    "You do not need to save these files to your folder since your program will read the data directly from the URL. Note: Each student will have a distinct data url for the assignment - so only use your own data url for analysis.\n",
    "Data Format and Approach\n",
    "\n",
    "__The data consists of a number of names and comment counts in XML as follows:__\n",
    "\n",
    "<comment>\n",
    "  <name>Matthias</name>\n",
    "  <count>97</count>\n",
    "</comment>\n",
    "\n",
    "You are to look through all the <comment> tags and find the <count> values sum the numbers. The closest sample code that shows how to parse XML is geoxml.py. But since the nesting of the elements in our data is different than the data we are parsing in that sample code you will have to make real changes to the code.\n",
    "To make the code a little simpler, you can use an XPath selector string to look through the entire tree of XML for any tag named 'count' with the following line of code:\n",
    "\n",
    "counts = tree.findall('.//count')\n",
    "Take a look at the Python ElementTree documentation and look for the supported XPath syntax for details. You could also work from the top of \n",
    "the XML down to the comments node and then loop through the child nodes of the comments node.\n",
    "\n",
    "### Sample Execution\n",
    "\n",
    "<pre> $ python3 solution.py\n",
    "Enter location: http://py4e-data.dr-chuck.net/comments_42.xml\n",
    "Retrieving http://py4e-data.dr-chuck.net/comments_42.xml\n",
    "Retrieved 4189 characters\n",
    "Count: 50\n",
    "Sum: 2...\n",
    "</pre>"
   ]
  },
  {
   "cell_type": "markdown",
   "metadata": {},
   "source": [
    "# _Code_"
   ]
  },
  {
   "cell_type": "code",
   "execution_count": null,
   "metadata": {},
   "outputs": [],
   "source": [
    "import urllib.request\n",
    "import xml.etree.ElementTree as ET\n",
    "\n",
    "url = input(\"Enter location: \")\n",
    "if len(url) < 1:\n",
    "    url = \"http://py4e-data.dr-chuck.net/comments_447338.xml\"\n",
    "print(\"Retrieving \" + url)\n",
    "\n",
    "xml = urllib.request.urlopen(url).read()\n",
    "print(\"Retrieved: \" + str(len(xml)) + \" characters\")\n",
    "\n",
    "tree = ET.fromstring(xml)\n",
    "\n",
    "counts =  tree.findall('.//count')\n",
    "print(\"Count: \" + str(len(counts)))\n",
    "\n",
    "\n",
    "sumall=0\n",
    "for count in counts:\n",
    "    sumall+=int(count.text)\n",
    "\n",
    "print(\"Sum: \" + str(sumall))"
   ]
  },
  {
   "cell_type": "code",
   "execution_count": null,
   "metadata": {},
   "outputs": [],
   "source": []
  }
 ],
 "metadata": {
  "kernelspec": {
   "display_name": "Python",
   "language": "python",
   "name": "conda-env-python-py"
  },
  "language_info": {
   "codemirror_mode": {
    "name": "ipython",
    "version": 3
   },
   "file_extension": ".py",
   "mimetype": "text/x-python",
   "name": "python",
   "nbconvert_exporter": "python",
   "pygments_lexer": "ipython3",
   "version": "3.6.10"
  }
 },
 "nbformat": 4,
 "nbformat_minor": 4
}
